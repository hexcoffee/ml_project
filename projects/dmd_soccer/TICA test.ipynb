{
 "cells": [
  {
   "cell_type": "code",
   "execution_count": null,
   "metadata": {
    "collapsed": false
   },
   "outputs": [],
   "source": [
    "importlib.reload(md)"
   ]
  },
  {
   "cell_type": "code",
   "execution_count": null,
   "metadata": {
    "collapsed": false
   },
   "outputs": [],
   "source": [
    "import numpy as np\n",
    "import match_data as md\n",
    "import pyemma.coordinates as coor\n",
    "#import pyemma.msm as msm\n",
    "#import pyemma.plots as mplt\n",
    "import matplotlib.pyplot as plt\n",
    "\n",
    "import importlib\n",
    "\n",
    "%matplotlib inline"
   ]
  },
  {
   "cell_type": "code",
   "execution_count": null,
   "metadata": {
    "collapsed": false
   },
   "outputs": [],
   "source": [
    "#bball_data = md.BballData(\"toy 1.xlsx\")\n",
    "#bball_data = md.BballData(\"tracking sample 1 q12.xlsx\")\n",
    "bball_data = md.BballData(\"tracking sample 1 q34.xlsx\")\n",
    "bball_toy_data = md.BballData(\"toy 1.xlsx\")\n",
    "#bball_data.describe()\n",
    "print(bball_data._game_id, bball_data.num_pts)\n",
    "print(bball_toy_data._game_id, bball_toy_data.num_pts)"
   ]
  },
  {
   "cell_type": "code",
   "execution_count": null,
   "metadata": {
    "collapsed": false
   },
   "outputs": [],
   "source": [
    "#bball_data._players_table.reset_index(level=0, inplace=True)\n",
    "#bball_data._players_table\n",
    "# -> make array, s.t. previous index is different\n",
    "first_inds = np.array([i-9 for i in range(1, bball_data._players_table.shape[0]-1) if bball_data._players_table.ix[i, 'TIME']\n",
    "             != bball_data._players_table.ix[i+1, 'TIME']])\n",
    "print(first_inds)\n",
    "#timeslots = np.array([bball_data._players_table.ix[lambda df: df.TIME == i, :].values \n",
    "#for i in range(1459564940273, 1459568297950)])\n",
    "#timeslots"
   ]
  },
  {
   "cell_type": "code",
   "execution_count": null,
   "metadata": {
    "collapsed": false
   },
   "outputs": [],
   "source": [
    "count = np.zeros(7)\n",
    "for i in range(len(first_inds)-1):\n",
    "    count[first_inds[i+1]-first_inds[i]-7-1] = count[first_inds[i+1]-first_inds[i]-7-1] + 1\n",
    "    if first_inds[i+1]-first_inds[i] == 9:\n",
    "        print(i,first_inds[i])\n",
    "print(count)"
   ]
  },
  {
   "cell_type": "code",
   "execution_count": null,
   "metadata": {
    "collapsed": false
   },
   "outputs": [],
   "source": [
    "#error in q12 of tracking sample 1\n",
    "#print(bball_data._players_table.ix[134850:134900,['TIME','TEAM','X_POSITION','Y_POSITION', 'PLAYER_ID', 'UNIFORM_NUMBER']])"
   ]
  },
  {
   "cell_type": "code",
   "execution_count": null,
   "metadata": {
    "collapsed": false
   },
   "outputs": [],
   "source": [
    "#traj = bball_toy_data.trajectory()\n",
    "traj = bball_data.trajectory()\n",
    "print('Rows:', traj.shape[0], 'Columns:', traj.shape[1])"
   ]
  },
  {
   "cell_type": "code",
   "execution_count": null,
   "metadata": {
    "collapsed": false
   },
   "outputs": [],
   "source": [
    "#traj"
   ]
  },
  {
   "cell_type": "code",
   "execution_count": null,
   "metadata": {
    "collapsed": false
   },
   "outputs": [],
   "source": [
    "tica_obj = coor.tica(traj, lag=20, var_cutoff=0.95, kinetic_map=True)\n",
    "proj_data = tica_obj.get_output()[0]\n",
    "print('TICA dimension ', tica_obj.dimension())\n",
    "#print(proj_data.shape)\n",
    "print('Eigenvalues:', tica_obj.eigenvalues)"
   ]
  },
  {
   "cell_type": "code",
   "execution_count": null,
   "metadata": {
    "collapsed": false
   },
   "outputs": [],
   "source": [
    "num_plots = 5\n",
    "x = range(traj.shape[0])\n",
    "f, ax = plt.subplots(num_plots, sharex=True, figsize=(20,num_plots*2))\n",
    "for i in range(num_plots):\n",
    "    ax[i].plot(x, proj_data[x,i])"
   ]
  },
  {
   "cell_type": "code",
   "execution_count": null,
   "metadata": {
    "collapsed": false
   },
   "outputs": [],
   "source": [
    "fig, axes = plt.subplots(1, 2, figsize=(11,5))\n",
    "for i, ax in enumerate(axes.flat):\n",
    "    ax.scatter(proj_data[::25,0], proj_data[::25,i+1], c='black')"
   ]
  },
  {
   "cell_type": "code",
   "execution_count": null,
   "metadata": {
    "collapsed": false
   },
   "outputs": [],
   "source": [
    "fig, ax = plt.subplots(figsize=(5,5))\n",
    "ax.scatter(proj_data[::25,1], proj_data[::25,2], c='black')"
   ]
  },
  {
   "cell_type": "code",
   "execution_count": null,
   "metadata": {
    "collapsed": true
   },
   "outputs": [],
   "source": [
    "bball_toy_data = md.BballData(\"toy 1.xlsx\")"
   ]
  },
  {
   "cell_type": "code",
   "execution_count": 342,
   "metadata": {
    "collapsed": false
   },
   "outputs": [],
   "source": [
    "#bball_toy_data.play(0, 1000)"
   ]
  },
  {
   "cell_type": "code",
   "execution_count": null,
   "metadata": {
    "collapsed": false
   },
   "outputs": [],
   "source": [
    "bball_data.show(1000)"
   ]
  },
  {
   "cell_type": "code",
   "execution_count": null,
   "metadata": {
    "collapsed": true
   },
   "outputs": [],
   "source": []
  }
 ],
 "metadata": {
  "kernelspec": {
   "display_name": "Python 3",
   "language": "python",
   "name": "python3"
  },
  "language_info": {
   "codemirror_mode": {
    "name": "ipython",
    "version": 3
   },
   "file_extension": ".py",
   "mimetype": "text/x-python",
   "name": "python",
   "nbconvert_exporter": "python",
   "pygments_lexer": "ipython3",
   "version": "3.5.1"
  }
 },
 "nbformat": 4,
 "nbformat_minor": 0
}
