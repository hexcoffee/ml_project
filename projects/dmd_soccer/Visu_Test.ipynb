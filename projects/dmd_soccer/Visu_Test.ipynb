{
 "cells": [
  {
   "cell_type": "code",
   "execution_count": null,
   "metadata": {
    "collapsed": false
   },
   "outputs": [],
   "source": [
    "import numpy as np\n",
    "import pandas as pd\n",
    "import ipywidgets as widgets\n",
    "from IPython.display import display\n",
    "import traitlets\n",
    "import matplotlib.pyplot as plt\n",
    "import random\n",
    "from matplotlib import animation\n",
    "\n",
    "%matplotlib inline\n",
    "#%pylab inline"
   ]
  },
  {
   "cell_type": "code",
   "execution_count": null,
   "metadata": {
    "collapsed": false
   },
   "outputs": [],
   "source": [
    "#data = pd.ExcelFile(\"..\\..\\..\\Basketball Tracking Data\\toy 1.xlsx\")\n",
    "file = pd.ExcelFile(\"toy 1.xlsx\")\n",
    "df = file.parse()\n",
    "#print(df)"
   ]
  },
  {
   "cell_type": "code",
   "execution_count": null,
   "metadata": {
    "collapsed": false
   },
   "outputs": [],
   "source": [
    "description = df.describe()\n",
    "print(description)"
   ]
  },
  {
   "cell_type": "code",
   "execution_count": null,
   "metadata": {
    "collapsed": false
   },
   "outputs": [],
   "source": [
    "game_id = df['GAME_CODE'][0]\n",
    "num_rows = len(df.index)\n",
    "num_rows, game_id"
   ]
  },
  {
   "cell_type": "code",
   "execution_count": null,
   "metadata": {
    "collapsed": false
   },
   "outputs": [],
   "source": [
    "df[0:5]"
   ]
  },
  {
   "cell_type": "code",
   "execution_count": null,
   "metadata": {
    "collapsed": false
   },
   "outputs": [],
   "source": [
    "testcourt = df[['X_POSITION','Y_POSITION','Z_POSITION']]\n",
    "testcourt_array=[testcourt['X_POSITION'][::14],testcourt['Y_POSITION'][::14]]\n",
    "#testcourt\n",
    "testcourt_array"
   ]
  },
  {
   "cell_type": "code",
   "execution_count": null,
   "metadata": {
    "collapsed": false
   },
   "outputs": [],
   "source": [
    "#plt.imshow([testcourt['X_POSITION'],testcourt['Y_POSITION']], interpolation='nearest')\n",
    "length = df.shape[0]\n",
    "#print(length)\n",
    "fig, ax = plt.subplots(figsize=(5, 5))\n",
    "ax.scatter(testcourt['X_POSITION'][::28], testcourt['Y_POSITION'][::28], c='red')\n",
    "ax.scatter(testcourt['X_POSITION'][np.arange(1,length,28)], testcourt['Y_POSITION'][np.arange(1,length,28)], c='blue')\n",
    "format_plot(ax)\n",
    "fig.tight_layout()"
   ]
  },
  {
   "cell_type": "code",
   "execution_count": null,
   "metadata": {
    "collapsed": true
   },
   "outputs": [],
   "source": [
    "def format_plot(ax):\n",
    "    ax.set_xlim(0, 100)\n",
    "    ax.set_ylim(0, 50)\n",
    "    ax.set_xlabel(r\"$x$\")\n",
    "    ax.set_ylabel(r\"$y$\")\n",
    "    ax.set_aspect('equal')\n",
    "\n",
    "#def state(t=0, player=0):\n",
    "def state(t):\n",
    "    player = 0\n",
    "    fig, ax = plt.subplots(figsize=(5, 5))\n",
    "    ax.scatter(testcourt['X_POSITION'][14*t+player], testcourt['Y_POSITION'][14*t+player], c='red')\n",
    "    format_plot(ax)\n",
    "    fig.tight_layout()\n",
    "def state2(t=0):\n",
    "    player = 0\n",
    "    plt.imshow([testcourt_array[::14,0],testcourt_array[::14,0]], interpolation='nearest')\n",
    "    plt.show()"
   ]
  },
  {
   "cell_type": "code",
   "execution_count": null,
   "metadata": {
    "collapsed": false
   },
   "outputs": [],
   "source": [
    "court_test = widgets.interact(state, t=(0, 10000//14))\n",
    "state(10)"
   ]
  },
  {
   "cell_type": "code",
   "execution_count": 21,
   "metadata": {
    "collapsed": false
   },
   "outputs": [],
   "source": [
    "maximum = 1000\n",
    "step = 10\n",
    "play = widgets.Play(\n",
    "#     interval=10,\n",
    "    value=0,\n",
    "    min=0,\n",
    "    max=maximum,\n",
    "    step=step,\n",
    "    description=\"Press play\",\n",
    "    disabled=False\n",
    ")\n",
    "#slider = widgets.IntSlider(min=0, max=maximum, step=step)\n",
    "#court_disp = widgets.interactive(state, t=0, player=0)\n",
    "#widgets.jslink((play, 'value'), (slider, 'value'))\n",
    "#widgets.HBox([play, slider, court_disp])\n",
    "court_disp = widgets.interactive(state, t=(0, maximum, step), continuous_update=True)\n",
    "#court_disp.observe(play, 'value')\n",
    "#play.observe(court_disp)\n",
    "widgets.jsdlink((play, 'value'), (court_disp.children[0], 'value'))\n",
    "#widgets.jslink((play, 'value'), (court_disp.children[0], 'value'))\n",
    "#widgets.jsdlink((slider, 'value'), (court_disp.children[0], 'value'))\n",
    "#traitlets.link((play, 'value'), (court_disp.children[0], 'value'))\n",
    "#widgets.HBox([play, court_disp])\n",
    "display(play, court_disp)"
   ]
  },
  {
   "cell_type": "code",
   "execution_count": 22,
   "metadata": {
    "collapsed": false
   },
   "outputs": [],
   "source": [
    "#display(court_disp)"
   ]
  },
  {
   "cell_type": "code",
   "execution_count": null,
   "metadata": {
    "collapsed": true
   },
   "outputs": [],
   "source": [
    "caption = widgets.Label(value = 'The values of range1 and range2 are synchronized')\n",
    "range1, range2 = widgets.IntSlider(description='Range 1'),\\\n",
    "                         widgets.IntSlider(description='Range 2')\n",
    "l = widgets.jslink((range1, 'value'), (range2, 'value'))\n",
    "display(caption, range1, range2)"
   ]
  },
  {
   "cell_type": "code",
   "execution_count": null,
   "metadata": {
    "collapsed": false
   },
   "outputs": [],
   "source": [
    "class AnimatedScatter(object):\n",
    "    \"\"\"An animated scatter plot using matplotlib.animations.FuncAnimation.\"\"\"\n",
    "    def __init__(self, numpoints=50):\n",
    "        self.numpoints = numpoints\n",
    "        self.stream = self.data_stream()\n",
    "\n",
    "        # Setup the figure and axes...\n",
    "        self.fig, self.ax = plt.subplots()\n",
    "        # Then setup FuncAnimation.\n",
    "        self.ani = animation.FuncAnimation(self.fig, self.update, interval=5, \n",
    "                                           init_func=self.setup_plot, blit=True)\n",
    "\n",
    "    def setup_plot(self):\n",
    "        \"\"\"Initial drawing of the scatter plot.\"\"\"\n",
    "        x, y, s, c = next(self.stream)\n",
    "        self.scat = self.ax.scatter(x, y, c=c, s=s, animated=True)\n",
    "        self.ax.axis([-10, 10, -10, 10])\n",
    "\n",
    "        # For FuncAnimation's sake, we need to return the artist we'll be using\n",
    "        # Note that it expects a sequence of artists, thus the trailing comma.\n",
    "        return self.scat,\n",
    "\n",
    "    def data_stream(self):\n",
    "        \"\"\"Generate a random walk (brownian motion). Data is scaled to produce\n",
    "        a soft \"flickering\" effect.\"\"\"\n",
    "        data = np.random.random((4, self.numpoints))\n",
    "        xy = data[:2, :]\n",
    "        s, c = data[2:, :]\n",
    "        xy -= 0.5\n",
    "        xy *= 10\n",
    "        while True:\n",
    "            xy += 0.03 * (np.random.random((2, self.numpoints)) - 0.5)\n",
    "            s += 0.05 * (np.random.random(self.numpoints) - 0.5)\n",
    "            c += 0.02 * (np.random.random(self.numpoints) - 0.5)\n",
    "            yield data\n",
    "\n",
    "    def update(self, i):\n",
    "        \"\"\"Update the scatter plot.\"\"\"\n",
    "        data = next(self.stream)\n",
    "\n",
    "        # Set x and y data...\n",
    "        self.scat.set_offsets(data[:2, :])\n",
    "        # Set sizes...\n",
    "        self.scat._sizes = 300 * abs(data[2])**1.5 + 100\n",
    "        # Set colors..\n",
    "        self.scat.set_array(data[3])\n",
    "\n",
    "        # We need to return the updated artist for FuncAnimation to draw..\n",
    "        # Note that it expects a sequence of artists, thus the trailing comma.\n",
    "        return self.scat,\n",
    "\n",
    "    def show(self):\n",
    "        plt.show()\n",
    "\n",
    "if __name__ == '__main__':\n",
    "    a = AnimatedScatter()\n",
    "    a.show()"
   ]
  },
  {
   "cell_type": "code",
   "execution_count": null,
   "metadata": {
    "collapsed": false
   },
   "outputs": [],
   "source": [
    "def main():\n",
    "    numframes = 100\n",
    "    numpoints = 10\n",
    "    color_data = np.random.random((numframes, numpoints))\n",
    "    x, y, c = np.random.random((3, numpoints))\n",
    "\n",
    "    fig = plt.figure()\n",
    "    scat = plt.scatter(x, y, c=c, s=100)\n",
    "\n",
    "    ani = animation.FuncAnimation(fig, update_plot, frames=range(numframes),\n",
    "                                  fargs=(color_data, scat))\n",
    "    plt.show()\n",
    "\n",
    "def update_plot(i, data, scat):\n",
    "    scat.set_array(data[i])\n",
    "    return scat,\n",
    "\n",
    "main()"
   ]
  },
  {
   "cell_type": "code",
   "execution_count": null,
   "metadata": {
    "collapsed": false,
    "scrolled": true
   },
   "outputs": [],
   "source": [
    "from matplotlib import animation, rc\n",
    "from IPython.display import HTML\n",
    "\n",
    "# First set up the figure, the axis, and the plot element we want to animate\n",
    "fig, ax = plt.subplots()\n",
    "\n",
    "ax.set_xlim(( 0, 2))\n",
    "ax.set_ylim((-2, 2))\n",
    "\n",
    "line, = ax.plot([], [], lw=2)\n",
    "\n",
    "# initialization function: plot the background of each frame\n",
    "def init():\n",
    "    line.set_data([], [])\n",
    "    return (line,)\n",
    "\n",
    "# animation function. This is called sequentially\n",
    "def animate(i):\n",
    "    x = np.linspace(0, 2, 1000)\n",
    "    y = np.sin(2 * np.pi * (x - 0.01 * i))\n",
    "    line.set_data(x, y)\n",
    "    return (line,)\n",
    "\n",
    "# call the animator. blit=True means only re-draw the parts that have changed.\n",
    "anim = animation.FuncAnimation(fig, animate, init_func=init,\n",
    "                               frames=100, interval=20, blit=True)\n",
    "\n",
    "HTML(anim.to_html5_video())"
   ]
  },
  {
   "cell_type": "code",
   "execution_count": null,
   "metadata": {
    "collapsed": true
   },
   "outputs": [],
   "source": []
  }
 ],
 "metadata": {
  "kernelspec": {
   "display_name": "Python 3",
   "language": "python",
   "name": "python3"
  },
  "language_info": {
   "codemirror_mode": {
    "name": "ipython",
    "version": 3
   },
   "file_extension": ".py",
   "mimetype": "text/x-python",
   "name": "python",
   "nbconvert_exporter": "python",
   "pygments_lexer": "ipython3",
   "version": "3.5.1"
  },
  "widgets": {
   "state": {
    "e0192c67f7e74c4992e0fb50ed75f5eb": {
     "views": [
      {
       "cell_index": 9
      }
     ]
    },
    "e777bb6bacce46c18fcae8cb0ae78d3e": {
     "views": [
      {
       "cell_index": 9
      }
     ]
    }
   },
   "version": "1.2.0"
  }
 },
 "nbformat": 4,
 "nbformat_minor": 0
}
