{
 "cells": [
  {
   "cell_type": "code",
   "execution_count": null,
   "metadata": {
    "collapsed": false
   },
   "outputs": [],
   "source": [
    "import numpy as np\n",
    "import match_data as md\n",
    "\n",
    "import importlib\n",
    "importlib.reload(md)"
   ]
  },
  {
   "cell_type": "code",
   "execution_count": null,
   "metadata": {
    "collapsed": false
   },
   "outputs": [],
   "source": [
    "bball_data = md.BballData(\"toy 1.xlsx\")\n",
    "#bball_data.describe()\n",
    "print(bball_data._game_id, bball_data.num_pts)"
   ]
  },
  {
   "cell_type": "code",
   "execution_count": null,
   "metadata": {
    "collapsed": false
   },
   "outputs": [],
   "source": [
    "ball_cols = ['X_POSITION', 'Y_POSITION','Z_POSITION']\n",
    "#print(bball_data._ball_table)\n",
    "#print(bball_data._refs_table)\n",
    "print(bball_data._ball_table.ix[:, ball_cols].values)"
   ]
  },
  {
   "cell_type": "code",
   "execution_count": null,
   "metadata": {
    "collapsed": false
   },
   "outputs": [],
   "source": [
    "bball_data.trajectory()"
   ]
  },
  {
   "cell_type": "code",
   "execution_count": null,
   "metadata": {
    "collapsed": false
   },
   "outputs": [],
   "source": [
    "length = bball_data._raw_table.shape[0]\n",
    "print(length)\n",
    "num_tracked_ppl = 13\n",
    "print(length//(num_tracked_ppl+1))\n",
    "i = 6\n",
    "cols_per_obj = 3\n",
    "ind = np.arange(i, length+i, num_tracked_ppl+1)\n",
    "ind"
   ]
  },
  {
   "cell_type": "code",
   "execution_count": null,
   "metadata": {
    "collapsed": false
   },
   "outputs": [],
   "source": [
    "a = np.array(range(4)).reshape(2,2)\n",
    "b = np.array(range(4,8)).reshape(2,2)\n",
    "arrlist = [a,b]\n",
    "c = np.array(arrlist)\n",
    "d = c.transpose([1,0,2])\n",
    "e = d.reshape(2,4)\n",
    "print(a)\n",
    "print(b)\n",
    "print(c)\n",
    "print(d)\n",
    "print(e)\n",
    "print(e[:,0])"
   ]
  },
  {
   "cell_type": "code",
   "execution_count": null,
   "metadata": {
    "collapsed": false
   },
   "outputs": [],
   "source": [
    "ppl_cols = ['X_POSITION', 'Y_POSITION']\n",
    "ball_cols = ['X_POSITION', 'Y_POSITION','Z_POSITION']\n",
    "length = bball_data._raw_table.shape[0]\n",
    "exerpts = np.array([bball_data._raw_table.ix[np.arange(i, length+i, num_tracked_ppl+1), ppl_cols].values\n",
    "          for i in range(0, num_tracked_ppl)])\n",
    "#print(exerpts)\n",
    "#print(bball_data._raw_table.ix[np.arange(num_tracked_ppl,\n",
    "#           length+num_tracked_ppl, num_tracked_ppl+1), ball_cols].values)\n",
    "#print(exerpts)\n",
    "#print(exerpts.size, length//(num_tracked_ppl+1), len(ppl_cols)*num_tracked_ppl)\n",
    "X = exerpts.transpose([1,0,2]).reshape((length//(num_tracked_ppl+1), len(ppl_cols)*num_tracked_ppl))\n",
    "#print(X)\n",
    "print([bball_data._raw_table.ix[np.arange(num_tracked_ppl,\n",
    "           length+num_tracked_ppl, num_tracked_ppl+1), ball_cols].values])\n",
    "#print(bball_data._raw_table.ix[np.arange(num_tracked_ppl,\n",
    "#           length+num_tracked_ppl, num_tracked_ppl+1), ball_cols].values.shape)\n",
    "#print(X.shape)\n",
    "print(X)\n",
    "X = np.hstack((X, bball_data._raw_table.ix[np.arange(num_tracked_ppl,\n",
    "           length+num_tracked_ppl, num_tracked_ppl+1), ball_cols].values))\n",
    "print(X)\n",
    "print(X.shape)\n",
    "print(X[:,0])\n",
    "print(X[0,:])"
   ]
  },
  {
   "cell_type": "code",
   "execution_count": null,
   "metadata": {
    "collapsed": false
   },
   "outputs": [],
   "source": [
    "a if 2<3 else b"
   ]
  },
  {
   "cell_type": "code",
   "execution_count": null,
   "metadata": {
    "collapsed": false
   },
   "outputs": [],
   "source": [
    "np.append(a,b,axis=0)"
   ]
  },
  {
   "cell_type": "code",
   "execution_count": null,
   "metadata": {
    "collapsed": true
   },
   "outputs": [],
   "source": []
  }
 ],
 "metadata": {
  "kernelspec": {
   "display_name": "Python 3",
   "language": "python",
   "name": "python3"
  },
  "language_info": {
   "codemirror_mode": {
    "name": "ipython",
    "version": 3
   },
   "file_extension": ".py",
   "mimetype": "text/x-python",
   "name": "python",
   "nbconvert_exporter": "python",
   "pygments_lexer": "ipython3",
   "version": "3.5.1"
  }
 },
 "nbformat": 4,
 "nbformat_minor": 0
}
