{
 "cells": [
  {
   "cell_type": "code",
   "execution_count": null,
   "metadata": {
    "collapsed": true
   },
   "outputs": [],
   "source": [
    "import numpy as np\n",
    "import pandas as pd\n",
    "import importlib"
   ]
  },
  {
   "cell_type": "code",
   "execution_count": null,
   "metadata": {
    "collapsed": true
   },
   "outputs": [],
   "source": [
    "shot_data = pd.read_csv(\"1570731 shots.csv\")\n",
    "#shot_data = pd.read_csv(\"1570743 shots.csv\")"
   ]
  },
  {
   "cell_type": "code",
   "execution_count": null,
   "metadata": {
    "collapsed": false
   },
   "outputs": [],
   "source": [
    "num_rows = shot_data.shape[0]\n",
    "shot_data\n",
    "#shot_data.loc[lambda df: df.POINTS == 3, :]\n",
    "#print(num_rows)"
   ]
  },
  {
   "cell_type": "code",
   "execution_count": null,
   "metadata": {
    "collapsed": false
   },
   "outputs": [],
   "source": [
    "#all((shot_data.ix[7, 'TEAM_ID'] == 6, shot_data.ix[7, 'TOUCH_TYPE'] == 3))\n",
    "team6_succ_shot_inds = [all((shot_data.ix[i, 'TEAM_ID'] == 6, shot_data.ix[i, 'TOUCH_TYPE'] == 3)) for i in range(num_rows)]\n",
    "team9_succ_shot_inds = [all((shot_data.ix[i, 'TEAM_ID'] == 9, shot_data.ix[i, 'TOUCH_TYPE'] == 3)) for i in range(num_rows)]\n",
    "team6_pts = np.sum(shot_data.loc[team6_succ_shot_inds, 'POINTS'])\n",
    "team9_pts = np.sum(shot_data.loc[team9_succ_shot_inds, 'POINTS'])\n",
    "all_attempted_field_pts = np.sum(shot_data.ix[:, 'POINTS'])\n",
    "print(team6_pts, team9_pts, all_attempted_field_pts)"
   ]
  },
  {
   "cell_type": "code",
   "execution_count": null,
   "metadata": {
    "collapsed": true
   },
   "outputs": [],
   "source": []
  }
 ],
 "metadata": {
  "kernelspec": {
   "display_name": "Python 3",
   "language": "python",
   "name": "python3"
  },
  "language_info": {
   "codemirror_mode": {
    "name": "ipython",
    "version": 3
   },
   "file_extension": ".py",
   "mimetype": "text/x-python",
   "name": "python",
   "nbconvert_exporter": "python",
   "pygments_lexer": "ipython3",
   "version": "3.5.1"
  }
 },
 "nbformat": 4,
 "nbformat_minor": 0
}
